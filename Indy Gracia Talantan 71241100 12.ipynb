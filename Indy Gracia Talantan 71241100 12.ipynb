{
 "cells": [
  {
   "cell_type": "code",
   "execution_count": 1,
   "id": "ab324762-0f07-48c3-825a-9401c2b43bdb",
   "metadata": {},
   "outputs": [
    {
     "name": "stdout",
     "output_type": "stream",
     "text": [
      "key\tvalue\titem\n",
      "1\t17\t1\n",
      "2\t8\t2\n",
      "3\t31\t3\n",
      "4\t10\t4\n",
      "5\t9\t5\n",
      "6\t5\t6\n"
     ]
    }
   ],
   "source": [
    "data_buahnya = {1: 17, 2: 8, 3: 31, 4: 10, 5: 9, 6: 5}\n",
    "print(\"key\\tvalue\\titem\")\n",
    "\n",
    "for key, value in data_buahnya.items():\n",
    "    print(f\"{key}\\t{value}\\t{key}\")  "
   ]
  },
  {
   "cell_type": "code",
   "execution_count": 3,
   "id": "ef0874f2-4013-4208-ba6d-d4626b283b39",
   "metadata": {},
   "outputs": [
    {
     "name": "stdout",
     "output_type": "stream",
     "text": [
      "{'Durian': 50000, 'Semangka': 30000, 'Salak': 10000}\n"
     ]
    }
   ],
   "source": [
    "list_buah = ['Durian', 'Semangka', 'Salak']\n",
    "list_harga = [50000, 30000, 10000]\n",
    "\n",
    "untuk_harganya = {b: h for b, h in zip(list_buah, list_harga)}\n",
    "\n",
    "print(untuk_harganya)"
   ]
  },
  {
   "cell_type": "code",
   "execution_count": null,
   "id": "d82ea3c4-2c9a-476e-a237-867d43a21a71",
   "metadata": {},
   "outputs": [],
   "source": []
  }
 ],
 "metadata": {
  "kernelspec": {
   "display_name": "Python [conda env:base] *",
   "language": "python",
   "name": "conda-base-py"
  },
  "language_info": {
   "codemirror_mode": {
    "name": "ipython",
    "version": 3
   },
   "file_extension": ".py",
   "mimetype": "text/x-python",
   "name": "python",
   "nbconvert_exporter": "python",
   "pygments_lexer": "ipython3",
   "version": "3.12.7"
  }
 },
 "nbformat": 4,
 "nbformat_minor": 5
}
